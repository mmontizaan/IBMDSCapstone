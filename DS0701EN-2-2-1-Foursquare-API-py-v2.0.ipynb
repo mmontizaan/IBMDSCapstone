{
    "cells": [
        {
            "cell_type": "markdown",
            "metadata": {
                "button": false,
                "new_sheet": false,
                "run_control": {
                    "read_only": false
                }
            },
            "source": "<a href=\"https://cognitiveclass.ai\"><img src = \"https://ibm.box.com/shared/static/9gegpsmnsoo25ikkbl4qzlvlyjbgxs5x.png\" width = 400> </a>\n\n<h1 align=center><font size = 5>Learning FourSquare API with Python</font></h1>\n"
        },
        {
            "cell_type": "markdown",
            "metadata": {
                "button": false,
                "new_sheet": false,
                "run_control": {
                    "read_only": false
                }
            },
            "source": "\n"
        },
        {
            "cell_type": "markdown",
            "metadata": {
                "button": false,
                "new_sheet": false,
                "run_control": {
                    "read_only": false
                }
            },
            "source": "## Introduction\n\nIn this lab, you will learn in details how to make calls to the Foursquare API for different purposes. You will learn how to construct a URL to send a request to the API to search for a specific type of venues, to explore a particular venue, to explore a Foursquare user, to explore a geographical location, and to get trending venues around a location. Also, you will learn how to use the visualization library, Folium, to visualize the results.\n"
        },
        {
            "cell_type": "markdown",
            "metadata": {
                "button": false,
                "new_sheet": false,
                "run_control": {
                    "read_only": false
                }
            },
            "source": "## Table of Contents\n\n1.  <a href=\"#item1\">Foursquare API Search Function</a>\n2.  <a href=\"#item2\">Explore a Given Venue</a>  \n3.  <a href=\"#item3\">Explore a User</a>  \n4.  <a href=\"#item4\">Foursquare API Explore Function</a>  \n5.  <a href=\"#item5\">Get Trending Venues</a>  \n"
        },
        {
            "cell_type": "markdown",
            "metadata": {
                "button": false,
                "new_sheet": false,
                "run_control": {
                    "read_only": false
                }
            },
            "source": "### Import necessary Libraries\n"
        },
        {
            "cell_type": "code",
            "execution_count": 1,
            "metadata": {
                "button": false,
                "jupyter": {
                    "outputs_hidden": false
                },
                "new_sheet": false,
                "run_control": {
                    "read_only": false
                }
            },
            "outputs": [
                {
                    "name": "stdout",
                    "output_type": "stream",
                    "text": "Requirement already satisfied: geopy in /opt/conda/envs/Python-3.7-main/lib/python3.7/site-packages (2.0.0)\nRequirement already satisfied: geographiclib<2,>=1.49 in /opt/conda/envs/Python-3.7-main/lib/python3.7/site-packages (from geopy) (1.50)\nCollecting folium==0.5.0\n  Downloading folium-0.5.0.tar.gz (79 kB)\n\u001b[K     |\u2588\u2588\u2588\u2588\u2588\u2588\u2588\u2588\u2588\u2588\u2588\u2588\u2588\u2588\u2588\u2588\u2588\u2588\u2588\u2588\u2588\u2588\u2588\u2588\u2588\u2588\u2588\u2588\u2588\u2588\u2588\u2588| 79 kB 7.5 MB/s  eta 0:00:01\n\u001b[?25hCollecting branca\n  Downloading branca-0.4.1-py3-none-any.whl (24 kB)\nRequirement already satisfied: jinja2 in /opt/conda/envs/Python-3.7-main/lib/python3.7/site-packages (from folium==0.5.0) (2.11.2)\nRequirement already satisfied: requests in /opt/conda/envs/Python-3.7-main/lib/python3.7/site-packages (from folium==0.5.0) (2.24.0)\nRequirement already satisfied: six in /opt/conda/envs/Python-3.7-main/lib/python3.7/site-packages (from folium==0.5.0) (1.15.0)\nRequirement already satisfied: MarkupSafe>=0.23 in /opt/conda/envs/Python-3.7-main/lib/python3.7/site-packages (from jinja2->folium==0.5.0) (1.1.1)\nRequirement already satisfied: chardet<4,>=3.0.2 in /opt/conda/envs/Python-3.7-main/lib/python3.7/site-packages (from requests->folium==0.5.0) (3.0.4)\nRequirement already satisfied: idna<3,>=2.5 in /opt/conda/envs/Python-3.7-main/lib/python3.7/site-packages (from requests->folium==0.5.0) (2.9)\nRequirement already satisfied: certifi>=2017.4.17 in /opt/conda/envs/Python-3.7-main/lib/python3.7/site-packages (from requests->folium==0.5.0) (2020.6.20)\nRequirement already satisfied: urllib3!=1.25.0,!=1.25.1,<1.26,>=1.21.1 in /opt/conda/envs/Python-3.7-main/lib/python3.7/site-packages (from requests->folium==0.5.0) (1.25.9)\nBuilding wheels for collected packages: folium\n  Building wheel for folium (setup.py) ... \u001b[?25ldone\n\u001b[?25h  Created wheel for folium: filename=folium-0.5.0-py3-none-any.whl size=76240 sha256=f33266185f822b03ceea933bc3c3264a0ea92e32b0cf7f7727143801102fcae7\n  Stored in directory: /tmp/wsuser/.cache/pip/wheels/b2/2f/2c/109e446b990d663ea5ce9b078b5e7c1a9c45cca91f377080f8\nSuccessfully built folium\nInstalling collected packages: branca, folium\nSuccessfully installed branca-0.4.1 folium-0.5.0\nFolium installed\nLibraries imported.\n"
                }
            ],
            "source": "import requests # library to handle requests\nimport pandas as pd # library for data analsysis\nimport numpy as np # library to handle data in a vectorized manner\nimport random # library for random number generation\n\n\n!pip install geopy\nfrom geopy.geocoders import Nominatim # module to convert an address into latitude and longitude values\n\n# libraries for displaying images\nfrom IPython.display import Image \nfrom IPython.core.display import HTML \n    \n# tranforming json file into a pandas dataframe library\nfrom pandas.io.json import json_normalize\n\n\n! pip install folium==0.5.0\nimport folium # plotting library\n\nprint('Folium installed')\nprint('Libraries imported.')"
        },
        {
            "cell_type": "markdown",
            "metadata": {
                "button": false,
                "new_sheet": false,
                "run_control": {
                    "read_only": false
                }
            },
            "source": "### Define Foursquare Credentials and Version\n"
        },
        {
            "cell_type": "markdown",
            "metadata": {
                "button": false,
                "new_sheet": false,
                "run_control": {
                    "read_only": false
                }
            },
            "source": "##### Make sure that you have created a Foursquare developer account and have your credentials handy\n"
        },
        {
            "cell_type": "code",
            "execution_count": 2,
            "metadata": {
                "button": false,
                "jupyter": {
                    "outputs_hidden": false
                },
                "new_sheet": false,
                "run_control": {
                    "read_only": false
                }
            },
            "outputs": [
                {
                    "name": "stdout",
                    "output_type": "stream",
                    "text": "Your credentails:\nCLIENT_ID: YHJNXTJTNR0ZH2WDWXZ5JFVIJAHWKPMUHI3XE4J4RXXGR5Q4\nCLIENT_SECRET:5V0RQG1MLZB22TTRFUGYKJXL0JZYLI3WJFBFAEDQAA03IJQF\n"
                }
            ],
            "source": "CLIENT_ID = 'YHJNXTJTNR0ZH2WDWXZ5JFVIJAHWKPMUHI3XE4J4RXXGR5Q4' # your Foursquare ID\nCLIENT_SECRET = '5V0RQG1MLZB22TTRFUGYKJXL0JZYLI3WJFBFAEDQAA03IJQF' # your Foursquare Secret\nVERSION = '20180604'\nLIMIT = 30\nprint('Your credentails:')\nprint('CLIENT_ID: ' + CLIENT_ID)\nprint('CLIENT_SECRET:' + CLIENT_SECRET)"
        },
        {
            "cell_type": "markdown",
            "metadata": {
                "button": false,
                "new_sheet": false,
                "run_control": {
                    "read_only": false
                }
            },
            "source": "\n"
        },
        {
            "cell_type": "markdown",
            "metadata": {
                "button": false,
                "new_sheet": false,
                "run_control": {
                    "read_only": false
                }
            },
            "source": "#### Let's again assume that you are staying at the Conrad hotel. So let's start by converting the Contrad Hotel's address to its latitude and longitude coordinates.\n"
        },
        {
            "cell_type": "markdown",
            "metadata": {},
            "source": "In order to define an instance of the geocoder, we need to define a user_agent. We will name our agent <em>foursquare_agent</em>, as shown below.\n"
        },
        {
            "cell_type": "code",
            "execution_count": 3,
            "metadata": {
                "button": false,
                "jupyter": {
                    "outputs_hidden": false
                },
                "new_sheet": false,
                "run_control": {
                    "read_only": false
                }
            },
            "outputs": [
                {
                    "name": "stdout",
                    "output_type": "stream",
                    "text": "40.7149555 -74.0153365\n"
                }
            ],
            "source": "address = '102 North End Ave, New York, NY'\n\ngeolocator = Nominatim(user_agent=\"foursquare_agent\")\nlocation = geolocator.geocode(address)\nlatitude = location.latitude\nlongitude = location.longitude\nprint(latitude, longitude)"
        },
        {
            "cell_type": "markdown",
            "metadata": {
                "button": false,
                "new_sheet": false,
                "run_control": {
                    "read_only": false
                }
            },
            "source": "\n"
        },
        {
            "cell_type": "markdown",
            "metadata": {
                "button": false,
                "new_sheet": false,
                "run_control": {
                    "read_only": false
                }
            },
            "source": "<a id=\"item1\"></a>\n"
        },
        {
            "cell_type": "markdown",
            "metadata": {
                "button": false,
                "new_sheet": false,
                "run_control": {
                    "read_only": false
                }
            },
            "source": "## 1. Search for a specific venue category\n\n> `https://api.foursquare.com/v2/venues/`**search**`?client_id=`**CLIENT_ID**`&client_secret=`**CLIENT_SECRET**`&ll=`**LATITUDE**`,`**LONGITUDE**`&v=`**VERSION**`&query=`**QUERY**`&radius=`**RADIUS**`&limit=`**LIMIT**\n"
        },
        {
            "cell_type": "markdown",
            "metadata": {
                "button": false,
                "new_sheet": false,
                "run_control": {
                    "read_only": false
                }
            },
            "source": "#### Now, let's assume that it is lunch time, and you are craving Italian food. So, let's define a query to search for Italian food that is within 500 metres from the Conrad Hotel.\n"
        },
        {
            "cell_type": "code",
            "execution_count": 4,
            "metadata": {
                "button": false,
                "jupyter": {
                    "outputs_hidden": false
                },
                "new_sheet": false,
                "run_control": {
                    "read_only": false
                },
                "scrolled": true
            },
            "outputs": [
                {
                    "name": "stdout",
                    "output_type": "stream",
                    "text": "Italian .... OK!\n"
                }
            ],
            "source": "search_query = 'Italian'\nradius = 500\nprint(search_query + ' .... OK!')"
        },
        {
            "cell_type": "markdown",
            "metadata": {
                "button": false,
                "new_sheet": false,
                "run_control": {
                    "read_only": false
                }
            },
            "source": "#### Define the corresponding URL\n"
        },
        {
            "cell_type": "code",
            "execution_count": 5,
            "metadata": {
                "button": false,
                "jupyter": {
                    "outputs_hidden": false
                },
                "new_sheet": false,
                "run_control": {
                    "read_only": false
                }
            },
            "outputs": [
                {
                    "data": {
                        "text/plain": "'https://api.foursquare.com/v2/venues/search?client_id=YHJNXTJTNR0ZH2WDWXZ5JFVIJAHWKPMUHI3XE4J4RXXGR5Q4&client_secret=5V0RQG1MLZB22TTRFUGYKJXL0JZYLI3WJFBFAEDQAA03IJQF&ll=40.7149555,-74.0153365&v=20180604&query=Italian&radius=500&limit=30'"
                    },
                    "execution_count": 5,
                    "metadata": {},
                    "output_type": "execute_result"
                }
            ],
            "source": "url = 'https://api.foursquare.com/v2/venues/search?client_id={}&client_secret={}&ll={},{}&v={}&query={}&radius={}&limit={}'.format(CLIENT_ID, CLIENT_SECRET, latitude, longitude, VERSION, search_query, radius, LIMIT)\nurl"
        },
        {
            "cell_type": "markdown",
            "metadata": {
                "button": false,
                "new_sheet": false,
                "run_control": {
                    "read_only": false
                }
            },
            "source": "#### Send the GET Request and examine the results\n"
        },
        {
            "cell_type": "code",
            "execution_count": 6,
            "metadata": {
                "button": false,
                "jupyter": {
                    "outputs_hidden": false
                },
                "new_sheet": false,
                "run_control": {
                    "read_only": false
                },
                "scrolled": true
            },
            "outputs": [
                {
                    "data": {
                        "text/plain": "{'meta': {'code': 200, 'requestId': '5fafe301a5421e17ccabcc19'},\n 'response': {'venues': [{'id': '4fa862b3e4b0ebff2f749f06',\n    'name': \"Harry's Italian Pizza Bar\",\n    'location': {'address': '225 Murray St',\n     'lat': 40.71521779064671,\n     'lng': -74.01473940209351,\n     'labeledLatLngs': [{'label': 'display',\n       'lat': 40.71521779064671,\n       'lng': -74.01473940209351},\n      {'label': 'entrance', 'lat': 40.715361, 'lng': -74.014975}],\n     'distance': 58,\n     'postalCode': '10282',\n     'cc': 'US',\n     'city': 'New York',\n     'state': 'NY',\n     'country': 'United States',\n     'formattedAddress': ['225 Murray St',\n      'New York, NY 10282',\n      'United States']},\n    'categories': [{'id': '4bf58dd8d48988d1ca941735',\n      'name': 'Pizza Place',\n      'pluralName': 'Pizza Places',\n      'shortName': 'Pizza',\n      'icon': {'prefix': 'https://ss3.4sqi.net/img/categories_v2/food/pizza_',\n       'suffix': '.png'},\n      'primary': True}],\n    'referralId': 'v-1605362433',\n    'hasPerk': False},\n   {'id': '4f3232e219836c91c7bfde94',\n    'name': 'Conca Cucina Italian Restaurant',\n    'location': {'address': '63 W Broadway',\n     'lat': 40.714484000000006,\n     'lng': -74.00980600000001,\n     'labeledLatLngs': [{'label': 'display',\n       'lat': 40.714484000000006,\n       'lng': -74.00980600000001}],\n     'distance': 469,\n     'postalCode': '10007',\n     'cc': 'US',\n     'city': 'New York',\n     'state': 'NY',\n     'country': 'United States',\n     'formattedAddress': ['63 W Broadway',\n      'New York, NY 10007',\n      'United States']},\n    'categories': [{'id': '4d4b7105d754a06374d81259',\n      'name': 'Food',\n      'pluralName': 'Food',\n      'shortName': 'Food',\n      'icon': {'prefix': 'https://ss3.4sqi.net/img/categories_v2/food/default_',\n       'suffix': '.png'},\n      'primary': True}],\n    'referralId': 'v-1605362433',\n    'hasPerk': False},\n   {'id': '3fd66200f964a520f4e41ee3',\n    'name': 'Ecco',\n    'location': {'address': '124 Chambers St',\n     'crossStreet': 'btwn Church St & W Broadway',\n     'lat': 40.71533713859952,\n     'lng': -74.00884766217825,\n     'labeledLatLngs': [{'label': 'display',\n       'lat': 40.71533713859952,\n       'lng': -74.00884766217825},\n      {'label': 'entrance', 'lat': 40.715202, 'lng': -74.008779}],\n     'distance': 549,\n     'postalCode': '10007',\n     'cc': 'US',\n     'city': 'New York',\n     'state': 'NY',\n     'country': 'United States',\n     'formattedAddress': ['124 Chambers St (btwn Church St & W Broadway)',\n      'New York, NY 10007',\n      'United States']},\n    'categories': [{'id': '4bf58dd8d48988d110941735',\n      'name': 'Italian Restaurant',\n      'pluralName': 'Italian Restaurants',\n      'shortName': 'Italian',\n      'icon': {'prefix': 'https://ss3.4sqi.net/img/categories_v2/food/italian_',\n       'suffix': '.png'},\n      'primary': True}],\n    'referralId': 'v-1605362433',\n    'hasPerk': False}]}}"
                    },
                    "execution_count": 6,
                    "metadata": {},
                    "output_type": "execute_result"
                }
            ],
            "source": "results = requests.get(url).json()\nresults"
        },
        {
            "cell_type": "markdown",
            "metadata": {
                "button": false,
                "new_sheet": false,
                "run_control": {
                    "read_only": false
                }
            },
            "source": "#### Get relevant part of JSON and transform it into a _pandas_ dataframe\n"
        },
        {
            "cell_type": "code",
            "execution_count": 7,
            "metadata": {
                "button": false,
                "jupyter": {
                    "outputs_hidden": false
                },
                "new_sheet": false,
                "run_control": {
                    "read_only": false
                }
            },
            "outputs": [
                {
                    "name": "stderr",
                    "output_type": "stream",
                    "text": "/opt/conda/envs/Python-3.7-main/lib/python3.7/site-packages/ipykernel/__main__.py:5: FutureWarning: pandas.io.json.json_normalize is deprecated, use pandas.json_normalize instead\n"
                },
                {
                    "data": {
                        "text/html": "<div>\n<style scoped>\n    .dataframe tbody tr th:only-of-type {\n        vertical-align: middle;\n    }\n\n    .dataframe tbody tr th {\n        vertical-align: top;\n    }\n\n    .dataframe thead th {\n        text-align: right;\n    }\n</style>\n<table border=\"1\" class=\"dataframe\">\n  <thead>\n    <tr style=\"text-align: right;\">\n      <th></th>\n      <th>id</th>\n      <th>name</th>\n      <th>categories</th>\n      <th>referralId</th>\n      <th>hasPerk</th>\n      <th>location.address</th>\n      <th>location.lat</th>\n      <th>location.lng</th>\n      <th>location.labeledLatLngs</th>\n      <th>location.distance</th>\n      <th>location.postalCode</th>\n      <th>location.cc</th>\n      <th>location.city</th>\n      <th>location.state</th>\n      <th>location.country</th>\n      <th>location.formattedAddress</th>\n      <th>location.crossStreet</th>\n    </tr>\n  </thead>\n  <tbody>\n    <tr>\n      <th>0</th>\n      <td>4fa862b3e4b0ebff2f749f06</td>\n      <td>Harry's Italian Pizza Bar</td>\n      <td>[{'id': '4bf58dd8d48988d1ca941735', 'name': 'P...</td>\n      <td>v-1605362433</td>\n      <td>False</td>\n      <td>225 Murray St</td>\n      <td>40.715218</td>\n      <td>-74.014739</td>\n      <td>[{'label': 'display', 'lat': 40.71521779064671...</td>\n      <td>58</td>\n      <td>10282</td>\n      <td>US</td>\n      <td>New York</td>\n      <td>NY</td>\n      <td>United States</td>\n      <td>[225 Murray St, New York, NY 10282, United Sta...</td>\n      <td>NaN</td>\n    </tr>\n    <tr>\n      <th>1</th>\n      <td>4f3232e219836c91c7bfde94</td>\n      <td>Conca Cucina Italian Restaurant</td>\n      <td>[{'id': '4d4b7105d754a06374d81259', 'name': 'F...</td>\n      <td>v-1605362433</td>\n      <td>False</td>\n      <td>63 W Broadway</td>\n      <td>40.714484</td>\n      <td>-74.009806</td>\n      <td>[{'label': 'display', 'lat': 40.71448400000000...</td>\n      <td>469</td>\n      <td>10007</td>\n      <td>US</td>\n      <td>New York</td>\n      <td>NY</td>\n      <td>United States</td>\n      <td>[63 W Broadway, New York, NY 10007, United Sta...</td>\n      <td>NaN</td>\n    </tr>\n    <tr>\n      <th>2</th>\n      <td>3fd66200f964a520f4e41ee3</td>\n      <td>Ecco</td>\n      <td>[{'id': '4bf58dd8d48988d110941735', 'name': 'I...</td>\n      <td>v-1605362433</td>\n      <td>False</td>\n      <td>124 Chambers St</td>\n      <td>40.715337</td>\n      <td>-74.008848</td>\n      <td>[{'label': 'display', 'lat': 40.71533713859952...</td>\n      <td>549</td>\n      <td>10007</td>\n      <td>US</td>\n      <td>New York</td>\n      <td>NY</td>\n      <td>United States</td>\n      <td>[124 Chambers St (btwn Church St &amp; W Broadway)...</td>\n      <td>btwn Church St &amp; W Broadway</td>\n    </tr>\n  </tbody>\n</table>\n</div>",
                        "text/plain": "                         id                             name  \\\n0  4fa862b3e4b0ebff2f749f06        Harry's Italian Pizza Bar   \n1  4f3232e219836c91c7bfde94  Conca Cucina Italian Restaurant   \n2  3fd66200f964a520f4e41ee3                             Ecco   \n\n                                          categories    referralId  hasPerk  \\\n0  [{'id': '4bf58dd8d48988d1ca941735', 'name': 'P...  v-1605362433    False   \n1  [{'id': '4d4b7105d754a06374d81259', 'name': 'F...  v-1605362433    False   \n2  [{'id': '4bf58dd8d48988d110941735', 'name': 'I...  v-1605362433    False   \n\n  location.address  location.lat  location.lng  \\\n0    225 Murray St     40.715218    -74.014739   \n1    63 W Broadway     40.714484    -74.009806   \n2  124 Chambers St     40.715337    -74.008848   \n\n                             location.labeledLatLngs  location.distance  \\\n0  [{'label': 'display', 'lat': 40.71521779064671...                 58   \n1  [{'label': 'display', 'lat': 40.71448400000000...                469   \n2  [{'label': 'display', 'lat': 40.71533713859952...                549   \n\n  location.postalCode location.cc location.city location.state  \\\n0               10282          US      New York             NY   \n1               10007          US      New York             NY   \n2               10007          US      New York             NY   \n\n  location.country                          location.formattedAddress  \\\n0    United States  [225 Murray St, New York, NY 10282, United Sta...   \n1    United States  [63 W Broadway, New York, NY 10007, United Sta...   \n2    United States  [124 Chambers St (btwn Church St & W Broadway)...   \n\n          location.crossStreet  \n0                          NaN  \n1                          NaN  \n2  btwn Church St & W Broadway  "
                    },
                    "execution_count": 7,
                    "metadata": {},
                    "output_type": "execute_result"
                }
            ],
            "source": "# assign relevant part of JSON to venues\nvenues = results['response']['venues']\n\n# tranform venues into a dataframe\ndataframe = json_normalize(venues)\ndataframe.head()"
        },
        {
            "cell_type": "markdown",
            "metadata": {
                "button": false,
                "new_sheet": false,
                "run_control": {
                    "read_only": false
                }
            },
            "source": "#### Define information of interest and filter dataframe\n"
        },
        {
            "cell_type": "code",
            "execution_count": 8,
            "metadata": {
                "button": false,
                "jupyter": {
                    "outputs_hidden": false
                },
                "new_sheet": false,
                "run_control": {
                    "read_only": false
                },
                "scrolled": true
            },
            "outputs": [
                {
                    "data": {
                        "text/html": "<div>\n<style scoped>\n    .dataframe tbody tr th:only-of-type {\n        vertical-align: middle;\n    }\n\n    .dataframe tbody tr th {\n        vertical-align: top;\n    }\n\n    .dataframe thead th {\n        text-align: right;\n    }\n</style>\n<table border=\"1\" class=\"dataframe\">\n  <thead>\n    <tr style=\"text-align: right;\">\n      <th></th>\n      <th>name</th>\n      <th>categories</th>\n      <th>address</th>\n      <th>lat</th>\n      <th>lng</th>\n      <th>labeledLatLngs</th>\n      <th>distance</th>\n      <th>postalCode</th>\n      <th>cc</th>\n      <th>city</th>\n      <th>state</th>\n      <th>country</th>\n      <th>formattedAddress</th>\n      <th>crossStreet</th>\n      <th>id</th>\n    </tr>\n  </thead>\n  <tbody>\n    <tr>\n      <th>0</th>\n      <td>Harry's Italian Pizza Bar</td>\n      <td>Pizza Place</td>\n      <td>225 Murray St</td>\n      <td>40.715218</td>\n      <td>-74.014739</td>\n      <td>[{'label': 'display', 'lat': 40.71521779064671...</td>\n      <td>58</td>\n      <td>10282</td>\n      <td>US</td>\n      <td>New York</td>\n      <td>NY</td>\n      <td>United States</td>\n      <td>[225 Murray St, New York, NY 10282, United Sta...</td>\n      <td>NaN</td>\n      <td>4fa862b3e4b0ebff2f749f06</td>\n    </tr>\n    <tr>\n      <th>1</th>\n      <td>Conca Cucina Italian Restaurant</td>\n      <td>Food</td>\n      <td>63 W Broadway</td>\n      <td>40.714484</td>\n      <td>-74.009806</td>\n      <td>[{'label': 'display', 'lat': 40.71448400000000...</td>\n      <td>469</td>\n      <td>10007</td>\n      <td>US</td>\n      <td>New York</td>\n      <td>NY</td>\n      <td>United States</td>\n      <td>[63 W Broadway, New York, NY 10007, United Sta...</td>\n      <td>NaN</td>\n      <td>4f3232e219836c91c7bfde94</td>\n    </tr>\n    <tr>\n      <th>2</th>\n      <td>Ecco</td>\n      <td>Italian Restaurant</td>\n      <td>124 Chambers St</td>\n      <td>40.715337</td>\n      <td>-74.008848</td>\n      <td>[{'label': 'display', 'lat': 40.71533713859952...</td>\n      <td>549</td>\n      <td>10007</td>\n      <td>US</td>\n      <td>New York</td>\n      <td>NY</td>\n      <td>United States</td>\n      <td>[124 Chambers St (btwn Church St &amp; W Broadway)...</td>\n      <td>btwn Church St &amp; W Broadway</td>\n      <td>3fd66200f964a520f4e41ee3</td>\n    </tr>\n  </tbody>\n</table>\n</div>",
                        "text/plain": "                              name          categories          address  \\\n0        Harry's Italian Pizza Bar         Pizza Place    225 Murray St   \n1  Conca Cucina Italian Restaurant                Food    63 W Broadway   \n2                             Ecco  Italian Restaurant  124 Chambers St   \n\n         lat        lng                                     labeledLatLngs  \\\n0  40.715218 -74.014739  [{'label': 'display', 'lat': 40.71521779064671...   \n1  40.714484 -74.009806  [{'label': 'display', 'lat': 40.71448400000000...   \n2  40.715337 -74.008848  [{'label': 'display', 'lat': 40.71533713859952...   \n\n   distance postalCode  cc      city state        country  \\\n0        58      10282  US  New York    NY  United States   \n1       469      10007  US  New York    NY  United States   \n2       549      10007  US  New York    NY  United States   \n\n                                    formattedAddress  \\\n0  [225 Murray St, New York, NY 10282, United Sta...   \n1  [63 W Broadway, New York, NY 10007, United Sta...   \n2  [124 Chambers St (btwn Church St & W Broadway)...   \n\n                   crossStreet                        id  \n0                          NaN  4fa862b3e4b0ebff2f749f06  \n1                          NaN  4f3232e219836c91c7bfde94  \n2  btwn Church St & W Broadway  3fd66200f964a520f4e41ee3  "
                    },
                    "execution_count": 8,
                    "metadata": {},
                    "output_type": "execute_result"
                }
            ],
            "source": "# keep only columns that include venue name, and anything that is associated with location\nfiltered_columns = ['name', 'categories'] + [col for col in dataframe.columns if col.startswith('location.')] + ['id']\ndataframe_filtered = dataframe.loc[:, filtered_columns]\n\n# function that extracts the category of the venue\ndef get_category_type(row):\n    try:\n        categories_list = row['categories']\n    except:\n        categories_list = row['venue.categories']\n        \n    if len(categories_list) == 0:\n        return None\n    else:\n        return categories_list[0]['name']\n\n# filter the category for each row\ndataframe_filtered['categories'] = dataframe_filtered.apply(get_category_type, axis=1)\n\n# clean column names by keeping only last term\ndataframe_filtered.columns = [column.split('.')[-1] for column in dataframe_filtered.columns]\n\ndataframe_filtered"
        },
        {
            "cell_type": "markdown",
            "metadata": {
                "button": false,
                "new_sheet": false,
                "run_control": {
                    "read_only": false
                }
            },
            "source": "#### Let's visualize the Italian restaurants that are nearby\n"
        },
        {
            "cell_type": "code",
            "execution_count": 9,
            "metadata": {
                "button": false,
                "jupyter": {
                    "outputs_hidden": false
                },
                "new_sheet": false,
                "run_control": {
                    "read_only": false
                }
            },
            "outputs": [
                {
                    "data": {
                        "text/plain": "0          Harry's Italian Pizza Bar\n1    Conca Cucina Italian Restaurant\n2                               Ecco\nName: name, dtype: object"
                    },
                    "execution_count": 9,
                    "metadata": {},
                    "output_type": "execute_result"
                }
            ],
            "source": "dataframe_filtered.name"
        },
        {
            "cell_type": "code",
            "execution_count": 10,
            "metadata": {
                "button": false,
                "jupyter": {
                    "outputs_hidden": false
                },
                "new_sheet": false,
                "run_control": {
                    "read_only": false
                },
                "scrolled": true
            },
            "outputs": [
                {
                    "data": {
                        "text/html": "<div style=\"width:100%;\"><div style=\"position:relative;width:100%;height:0;padding-bottom:60%;\"><span style=\"color:#565656\">Make this Notebook Trusted to load map: File -> Trust Notebook</span><iframe src=\"about:blank\" style=\"position:absolute;width:100%;height:100%;left:0;top:0;border:none !important;\" data-html=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 onload=\"this.contentDocument.open();this.contentDocument.write(atob(this.getAttribute('data-html')));this.contentDocument.close();\" allowfullscreen webkitallowfullscreen mozallowfullscreen></iframe></div></div>",
                        "text/plain": "<folium.folium.Map at 0x7f18f0d0ae90>"
                    },
                    "execution_count": 10,
                    "metadata": {},
                    "output_type": "execute_result"
                }
            ],
            "source": "venues_map = folium.Map(location=[latitude, longitude], zoom_start=13) # generate map centred around the Conrad Hotel\n\n# add a red circle marker to represent the Conrad Hotel\nfolium.CircleMarker(\n    [latitude, longitude],\n    radius=10,\n    color='red',\n    popup='Conrad Hotel',\n    fill = True,\n    fill_color = 'red',\n    fill_opacity = 0.6\n).add_to(venues_map)\n\n# add the Italian restaurants as blue circle markers\nfor lat, lng, label in zip(dataframe_filtered.lat, dataframe_filtered.lng, dataframe_filtered.categories):\n    folium.CircleMarker(\n        [lat, lng],\n        radius=5,\n        color='blue',\n        popup=label,\n        fill = True,\n        fill_color='blue',\n        fill_opacity=0.6\n    ).add_to(venues_map)\n\n# display map\nvenues_map"
        },
        {
            "cell_type": "markdown",
            "metadata": {
                "button": false,
                "new_sheet": false,
                "run_control": {
                    "read_only": false
                }
            },
            "source": "\n"
        },
        {
            "cell_type": "markdown",
            "metadata": {
                "button": false,
                "new_sheet": false,
                "run_control": {
                    "read_only": false
                }
            },
            "source": "<a id=\"item2\"></a>\n"
        },
        {
            "cell_type": "markdown",
            "metadata": {
                "button": false,
                "new_sheet": false,
                "run_control": {
                    "read_only": false
                }
            },
            "source": "## 2. Explore a Given Venue\n\n> `https://api.foursquare.com/v2/venues/`**VENUE_ID**`?client_id=`**CLIENT_ID**`&client_secret=`**CLIENT_SECRET**`&v=`**VERSION**\n"
        },
        {
            "cell_type": "markdown",
            "metadata": {
                "button": false,
                "new_sheet": false,
                "run_control": {
                    "read_only": false
                }
            },
            "source": "### A. Let's explore the closest Italian restaurant -- _Harry's Italian Pizza Bar_\n"
        },
        {
            "cell_type": "code",
            "execution_count": 11,
            "metadata": {
                "button": false,
                "jupyter": {
                    "outputs_hidden": false
                },
                "new_sheet": false,
                "run_control": {
                    "read_only": false
                }
            },
            "outputs": [
                {
                    "data": {
                        "text/plain": "'https://api.foursquare.com/v2/venues/4fa862b3e4b0ebff2f749f06?client_id=YHJNXTJTNR0ZH2WDWXZ5JFVIJAHWKPMUHI3XE4J4RXXGR5Q4&client_secret=5V0RQG1MLZB22TTRFUGYKJXL0JZYLI3WJFBFAEDQAA03IJQF&v=20180604'"
                    },
                    "execution_count": 11,
                    "metadata": {},
                    "output_type": "execute_result"
                }
            ],
            "source": "venue_id = '4fa862b3e4b0ebff2f749f06' # ID of Harry's Italian Pizza Bar\nurl = 'https://api.foursquare.com/v2/venues/{}?client_id={}&client_secret={}&v={}'.format(venue_id, CLIENT_ID, CLIENT_SECRET, VERSION)\nurl"
        },
        {
            "cell_type": "markdown",
            "metadata": {
                "button": false,
                "new_sheet": false,
                "run_control": {
                    "read_only": false
                }
            },
            "source": "#### Send GET request for result\n"
        },
        {
            "cell_type": "code",
            "execution_count": 12,
            "metadata": {
                "button": false,
                "jupyter": {
                    "outputs_hidden": false
                },
                "new_sheet": false,
                "run_control": {
                    "read_only": false
                }
            },
            "outputs": [
                {
                    "name": "stdout",
                    "output_type": "stream",
                    "text": "dict_keys(['id', 'name', 'contact', 'location', 'canonicalUrl', 'categories', 'verified', 'stats', 'url', 'price', 'hasMenu', 'likes', 'dislike', 'ok', 'rating', 'ratingColor', 'ratingSignals', 'menu', 'allowMenuUrlEdit', 'beenHere', 'specials', 'photos', 'reasons', 'hereNow', 'createdAt', 'tips', 'shortUrl', 'timeZone', 'listed', 'hours', 'popular', 'seasonalHours', 'defaultHours', 'pageUpdates', 'inbox', 'attributes', 'bestPhoto', 'colors'])\n"
                },
                {
                    "data": {
                        "text/plain": "{'id': '4fa862b3e4b0ebff2f749f06',\n 'name': \"Harry's Italian Pizza Bar\",\n 'contact': {'phone': '2126081007', 'formattedPhone': '(212) 608-1007'},\n 'location': {'address': '225 Murray St',\n  'lat': 40.71521779064671,\n  'lng': -74.01473940209351,\n  'labeledLatLngs': [{'label': 'display',\n    'lat': 40.71521779064671,\n    'lng': -74.01473940209351},\n   {'label': 'entrance', 'lat': 40.715361, 'lng': -74.014975}],\n  'postalCode': '10282',\n  'cc': 'US',\n  'city': 'New York',\n  'state': 'NY',\n  'country': 'United States',\n  'formattedAddress': ['225 Murray St',\n   'New York, NY 10282',\n   'United States']},\n 'canonicalUrl': 'https://foursquare.com/v/harrys-italian-pizza-bar/4fa862b3e4b0ebff2f749f06',\n 'categories': [{'id': '4bf58dd8d48988d1ca941735',\n   'name': 'Pizza Place',\n   'pluralName': 'Pizza Places',\n   'shortName': 'Pizza',\n   'icon': {'prefix': 'https://ss3.4sqi.net/img/categories_v2/food/pizza_',\n    'suffix': '.png'},\n   'primary': True},\n  {'id': '4bf58dd8d48988d110941735',\n   'name': 'Italian Restaurant',\n   'pluralName': 'Italian Restaurants',\n   'shortName': 'Italian',\n   'icon': {'prefix': 'https://ss3.4sqi.net/img/categories_v2/food/italian_',\n    'suffix': '.png'}}],\n 'verified': False,\n 'stats': {'tipCount': 56},\n 'url': 'http://harrysitalian.com',\n 'price': {'tier': 2, 'message': 'Moderate', 'currency': '$'},\n 'hasMenu': True,\n 'likes': {'count': 120,\n  'groups': [{'type': 'others', 'count': 120, 'items': []}],\n  'summary': '120 Likes'},\n 'dislike': False,\n 'ok': False,\n 'rating': 6.9,\n 'ratingColor': 'FFC800',\n 'ratingSignals': 212,\n 'menu': {'type': 'Menu',\n  'label': 'Menu',\n  'anchor': 'View Menu',\n  'url': 'https://foursquare.com/v/harrys-italian-pizza-bar/4fa862b3e4b0ebff2f749f06/menu',\n  'mobileUrl': 'https://foursquare.com/v/4fa862b3e4b0ebff2f749f06/device_menu'},\n 'allowMenuUrlEdit': True,\n 'beenHere': {'count': 0,\n  'unconfirmedCount': 0,\n  'marked': False,\n  'lastCheckinExpiredAt': 0},\n 'specials': {'count': 0, 'items': []},\n 'photos': {'count': 146,\n  'groups': [{'type': 'venue',\n    'name': 'Venue photos',\n    'count': 146,\n    'items': [{'id': '4fad980de4b091b4626c3633',\n      'createdAt': 1336776717,\n      'source': {'name': 'Foursquare for Android',\n       'url': 'https://foursquare.com/download/#/android'},\n      'prefix': 'https://fastly.4sqi.net/img/general/',\n      'suffix': '/ya1iQFI7pLjuIJp1PGDKlrZS3OJdHCF7tpILMmjv_2w.jpg',\n      'width': 480,\n      'height': 640,\n      'user': {'isSanctioned': False, 'firstName': 'Leony', 'lastName': 'N'},\n      'visibility': 'public'},\n     {'id': '503139a5e4b021f7a5e9952a',\n      'createdAt': 1345403301,\n      'source': {'name': 'Foursquare for iOS',\n       'url': 'https://foursquare.com/download/#/iphone'},\n      'prefix': 'https://fastly.4sqi.net/img/general/',\n      'suffix': '/ox3MATx28ULVNhMemzwMx5ivrRPh0aIbowxREaHWzKA.jpg',\n      'width': 720,\n      'height': 540,\n      'user': {'isSanctioned': False, 'firstName': 'Gregory', 'lastName': 'L'},\n      'visibility': 'public'}]}]},\n 'reasons': {'count': 1,\n  'items': [{'summary': 'Lots of people like this place',\n    'type': 'general',\n    'reasonName': 'rawLikesReason'}]},\n 'hereNow': {'count': 0, 'summary': 'Nobody here', 'groups': []},\n 'createdAt': 1336435379,\n 'tips': {'count': 56,\n  'groups': [{'type': 'others',\n    'name': 'All tips',\n    'count': 56,\n    'items': [{'id': '53d27909498e0523841340b6',\n      'createdAt': 1406302473,\n      'text': \"Harry's Italian Pizza bar is known for it's amazing pizza, but did you know that the brunches here are amazing too? Try the Nutella French toast and we know you'll be sold.\",\n      'type': 'user',\n      'canonicalUrl': 'https://foursquare.com/item/53d27909498e0523841340b6',\n      'lang': 'en',\n      'likes': {'count': 4,\n       'groups': [{'type': 'others',\n         'count': 4,\n         'items': [{'isSanctioned': False,\n           'firstName': 'Diane',\n           'lastName': 'D'},\n          {'isSanctioned': False, 'firstName': 'Tim', 'lastName': 'S'},\n          {'isSanctioned': False,\n           'firstName': 'TenantKing.com',\n           'type': 'page'}]}],\n       'summary': '4 likes'},\n      'logView': True,\n      'agreeCount': 3,\n      'disagreeCount': 0,\n      'todo': {'count': 0},\n      'user': {'isSanctioned': False,\n       'firstName': 'TenantKing.com',\n       'type': 'page'}},\n     {'id': '53962e98498ecd43845cc813',\n      'createdAt': 1402351256,\n      'text': \"I'm not sure if this place is one of the famous pizzerias in NYC but I loved their pizza.\",\n      'type': 'user',\n      'canonicalUrl': 'https://foursquare.com/item/53962e98498ecd43845cc813',\n      'photo': {'id': '53962e9c498e53dbbf59b28e',\n       'createdAt': 1402351260,\n       'source': {'name': 'Foursquare for iOS',\n        'url': 'https://foursquare.com/download/#/iphone'},\n       'prefix': 'https://fastly.4sqi.net/img/general/',\n       'suffix': '/7012699_DCcCtW8oRbhNv62E68gxtLnWn7IgRhapBr8vdnIQjYk.jpg',\n       'width': 720,\n       'height': 720,\n       'visibility': 'public'},\n      'photourl': 'https://fastly.4sqi.net/img/general/original/7012699_DCcCtW8oRbhNv62E68gxtLnWn7IgRhapBr8vdnIQjYk.jpg',\n      'lang': 'en',\n      'likes': {'count': 2,\n       'groups': [{'type': 'others',\n         'count': 2,\n         'items': [{'isSanctioned': False,\n           'firstName': 'Hani',\n           'lastName': 'A'},\n          {'isSanctioned': False, 'firstName': 'Leena', 'lastName': 'R'}]}],\n       'summary': '2 likes'},\n      'logView': True,\n      'agreeCount': 2,\n      'disagreeCount': 0,\n      'todo': {'count': 0},\n      'user': {'isSanctioned': False, 'firstName': 'Hani', 'lastName': 'A'},\n      'authorInteractionType': 'liked'}]}]},\n 'shortUrl': 'http://4sq.com/JNblHV',\n 'timeZone': 'America/New_York',\n 'listed': {'count': 54,\n  'groups': [{'type': 'others',\n    'name': 'Lists from other people',\n    'count': 54,\n    'items': [{'id': '4fa32fd0e4b04193744746b1',\n      'name': 'Manhattan Haunts',\n      'description': '',\n      'type': 'others',\n      'user': {'isSanctioned': False, 'firstName': 'Becca', 'lastName': 'M'},\n      'editable': False,\n      'public': True,\n      'collaborative': False,\n      'url': '/becca_mcarthur/list/manhattan-haunts',\n      'canonicalUrl': 'https://foursquare.com/becca_mcarthur/list/manhattan-haunts',\n      'createdAt': 1336094672,\n      'updatedAt': 1380845377,\n      'photo': {'id': '4e8cc9461081e3b3544e12e5',\n       'createdAt': 1317849414,\n       'prefix': 'https://fastly.4sqi.net/img/general/',\n       'suffix': '/0NLVU2HC1JF4DXIMKWUFW3QBUT31DC11EFNYYHMJG3NDWAPS.jpg',\n       'width': 492,\n       'height': 330,\n       'user': {'isSanctioned': False,\n        'firstName': 'Time Out New York',\n        'type': 'page'},\n       'visibility': 'public'},\n      'followers': {'count': 22},\n      'listItems': {'count': 187,\n       'items': [{'id': 'v4fa862b3e4b0ebff2f749f06',\n         'createdAt': 1342934485}]}},\n     {'id': '4fae817be4b085f6b2a74d19',\n      'name': 'USA NYC MAN FiDi',\n      'description': 'Where to go for decent eats in the restaurant wasteland of Downtown NYC aka FiDi, along with Tribeca & Battery Park City.',\n      'type': 'others',\n      'user': {'isSanctioned': False, 'firstName': 'Kino'},\n      'editable': False,\n      'public': True,\n      'collaborative': False,\n      'url': '/kinosfault/list/usa-nyc-man-fidi',\n      'canonicalUrl': 'https://foursquare.com/kinosfault/list/usa-nyc-man-fidi',\n      'createdAt': 1336836475,\n      'updatedAt': 1556754919,\n      'photo': {'id': '55984992498e13ba75e353bb',\n       'createdAt': 1436043666,\n       'prefix': 'https://fastly.4sqi.net/img/general/',\n       'suffix': '/12113441_iOa6Uh-Xi8bhj2-gpzkkw8MKiAIs7RmOcz_RM7m8ink.jpg',\n       'width': 540,\n       'height': 960,\n       'user': {'isSanctioned': False, 'firstName': 'Kino'},\n       'visibility': 'public'},\n      'followers': {'count': 20},\n      'listItems': {'count': 273,\n       'items': [{'id': 'v4fa862b3e4b0ebff2f749f06',\n         'createdAt': 1373909433}]}},\n     {'id': '4fddeff0e4b0e078037ac0d3',\n      'name': 'NYC Resturants',\n      'description': '',\n      'type': 'others',\n      'user': {'isSanctioned': False, 'firstName': 'Richard', 'lastName': 'R'},\n      'editable': False,\n      'public': True,\n      'collaborative': True,\n      'url': '/rickr7/list/nyc-resturants',\n      'canonicalUrl': 'https://foursquare.com/rickr7/list/nyc-resturants',\n      'createdAt': 1339944944,\n      'updatedAt': 1605048837,\n      'photo': {'id': '5072dd13e4b09145cdf782d1',\n       'createdAt': 1349704979,\n       'prefix': 'https://fastly.4sqi.net/img/general/',\n       'suffix': '/208205_fGh2OuAZ9qJ4agbAA5wMVNOSIm9kNUlRtNwj1N-adqg.jpg',\n       'width': 800,\n       'height': 800,\n       'user': {'isSanctioned': False, 'firstName': 'Thalia', 'lastName': 'K'},\n       'visibility': 'public'},\n      'followers': {'count': 12},\n      'listItems': {'count': 187,\n       'items': [{'id': 'v4fa862b3e4b0ebff2f749f06',\n         'createdAt': 1581655865}]}},\n     {'id': '5266c68a498e7c667807fe09',\n      'name': 'Foodie Love in NY - 02',\n      'description': '',\n      'type': 'others',\n      'user': {'isSanctioned': False, 'firstName': 'WiLL'},\n      'editable': False,\n      'public': True,\n      'collaborative': False,\n      'url': '/sweetiewill/list/foodie-love-in-ny--02',\n      'canonicalUrl': 'https://foursquare.com/sweetiewill/list/foodie-love-in-ny--02',\n      'createdAt': 1382467210,\n      'updatedAt': 1391995585,\n      'followers': {'count': 7},\n      'listItems': {'count': 200,\n       'items': [{'id': 'v4fa862b3e4b0ebff2f749f06',\n         'createdAt': 1386809936}]}}]}]},\n 'hours': {'status': 'Closed until 11:30 AM',\n  'richStatus': {'entities': [], 'text': 'Closed until 11:30 AM'},\n  'isOpen': False,\n  'isLocalHoliday': False,\n  'dayData': [],\n  'timeframes': [{'days': 'Mon\u2013Wed, Sun',\n    'open': [{'renderedTime': '11:30 AM\u201311:00 PM'}],\n    'segments': []},\n   {'days': 'Thu\u2013Sat',\n    'includesToday': True,\n    'open': [{'renderedTime': '11:30 AM\u2013Midnight'}],\n    'segments': []}]},\n 'popular': {'isOpen': False,\n  'isLocalHoliday': False,\n  'timeframes': [{'days': 'Today',\n    'includesToday': True,\n    'open': [{'renderedTime': 'Noon\u201311:00 PM'}],\n    'segments': []},\n   {'days': 'Sun',\n    'open': [{'renderedTime': 'Noon\u20133:00 PM'},\n     {'renderedTime': '5:00 PM\u20138:00 PM'}],\n    'segments': []},\n   {'days': 'Mon',\n    'open': [{'renderedTime': 'Noon\u20132:00 PM'},\n     {'renderedTime': '6:00 PM\u20138:00 PM'}],\n    'segments': []},\n   {'days': 'Tue\u2013Thu',\n    'open': [{'renderedTime': 'Noon\u20132:00 PM'},\n     {'renderedTime': '5:00 PM\u201310:00 PM'}],\n    'segments': []},\n   {'days': 'Fri',\n    'open': [{'renderedTime': 'Noon\u20133:00 PM'},\n     {'renderedTime': '5:00 PM\u201311:00 PM'}],\n    'segments': []}]},\n 'seasonalHours': [],\n 'defaultHours': {'status': 'Closed until 11:30 AM',\n  'richStatus': {'entities': [], 'text': 'Closed until 11:30 AM'},\n  'isOpen': False,\n  'isLocalHoliday': False,\n  'dayData': [],\n  'timeframes': [{'days': 'Mon\u2013Wed, Sun',\n    'open': [{'renderedTime': '11:30 AM\u201311:00 PM'}],\n    'segments': []},\n   {'days': 'Thu\u2013Sat',\n    'includesToday': True,\n    'open': [{'renderedTime': '11:30 AM\u2013Midnight'}],\n    'segments': []}]},\n 'pageUpdates': {'count': 0, 'items': []},\n 'inbox': {'count': 0, 'items': []},\n 'attributes': {'groups': [{'type': 'price',\n    'name': 'Price',\n    'summary': '$$',\n    'count': 1,\n    'items': [{'displayName': 'Price', 'displayValue': '$$', 'priceTier': 2}]},\n   {'type': 'payments',\n    'name': 'Credit Cards',\n    'summary': 'Credit Cards',\n    'count': 7,\n    'items': [{'displayName': 'Credit Cards',\n      'displayValue': 'Yes (incl. American Express)'}]},\n   {'type': 'outdoorSeating',\n    'name': 'Outdoor Seating',\n    'summary': 'Outdoor Seating',\n    'count': 1,\n    'items': [{'displayName': 'Outdoor Seating', 'displayValue': 'Yes'}]},\n   {'type': 'serves',\n    'name': 'Menus',\n    'summary': 'Happy Hour, Brunch & more',\n    'count': 8,\n    'items': [{'displayName': 'Brunch', 'displayValue': 'Brunch'},\n     {'displayName': 'Lunch', 'displayValue': 'Lunch'},\n     {'displayName': 'Dinner', 'displayValue': 'Dinner'},\n     {'displayName': 'Happy Hour', 'displayValue': 'Happy Hour'}]},\n   {'type': 'drinks',\n    'name': 'Drinks',\n    'summary': 'Beer, Wine & Cocktails',\n    'count': 5,\n    'items': [{'displayName': 'Beer', 'displayValue': 'Beer'},\n     {'displayName': 'Wine', 'displayValue': 'Wine'},\n     {'displayName': 'Cocktails', 'displayValue': 'Cocktails'}]}]},\n 'bestPhoto': {'id': '4fad980de4b091b4626c3633',\n  'createdAt': 1336776717,\n  'source': {'name': 'Foursquare for Android',\n   'url': 'https://foursquare.com/download/#/android'},\n  'prefix': 'https://fastly.4sqi.net/img/general/',\n  'suffix': '/ya1iQFI7pLjuIJp1PGDKlrZS3OJdHCF7tpILMmjv_2w.jpg',\n  'width': 480,\n  'height': 640,\n  'visibility': 'public'},\n 'colors': {'highlightColor': {'photoId': '4fad980de4b091b4626c3633',\n   'value': -13619152},\n  'highlightTextColor': {'photoId': '4fad980de4b091b4626c3633', 'value': -1},\n  'algoVersion': 3}}"
                    },
                    "execution_count": 12,
                    "metadata": {},
                    "output_type": "execute_result"
                }
            ],
            "source": "result = requests.get(url).json()\nprint(result['response']['venue'].keys())\nresult['response']['venue']"
        },
        {
            "cell_type": "markdown",
            "metadata": {
                "button": false,
                "new_sheet": false,
                "run_control": {
                    "read_only": false
                }
            },
            "source": "### B. Get the venue's overall rating\n"
        },
        {
            "cell_type": "code",
            "execution_count": 13,
            "metadata": {
                "button": false,
                "jupyter": {
                    "outputs_hidden": false
                },
                "new_sheet": false,
                "run_control": {
                    "read_only": false
                }
            },
            "outputs": [
                {
                    "name": "stdout",
                    "output_type": "stream",
                    "text": "6.9\n"
                }
            ],
            "source": "try:\n    print(result['response']['venue']['rating'])\nexcept:\n    print('This venue has not been rated yet.')"
        },
        {
            "cell_type": "markdown",
            "metadata": {
                "button": false,
                "new_sheet": false,
                "run_control": {
                    "read_only": false
                }
            },
            "source": "That is not a very good rating. Let's check the rating of the second closest Italian restaurant.\n"
        },
        {
            "cell_type": "code",
            "execution_count": 14,
            "metadata": {
                "button": false,
                "jupyter": {
                    "outputs_hidden": false
                },
                "new_sheet": false,
                "run_control": {
                    "read_only": false
                }
            },
            "outputs": [
                {
                    "name": "stdout",
                    "output_type": "stream",
                    "text": "This venue has not been rated yet.\n"
                }
            ],
            "source": "venue_id = '4f3232e219836c91c7bfde94' # ID of Conca Cucina Italian Restaurant\nurl = 'https://api.foursquare.com/v2/venues/{}?client_id={}&client_secret={}&v={}'.format(venue_id, CLIENT_ID, CLIENT_SECRET, VERSION)\n\nresult = requests.get(url).json()\ntry:\n    print(result['response']['venue']['rating'])\nexcept:\n    print('This venue has not been rated yet.')"
        },
        {
            "cell_type": "markdown",
            "metadata": {
                "button": false,
                "new_sheet": false,
                "run_control": {
                    "read_only": false
                }
            },
            "source": "Since this restaurant has no ratings, let's check the third restaurant.\n"
        },
        {
            "cell_type": "code",
            "execution_count": 15,
            "metadata": {
                "button": false,
                "jupyter": {
                    "outputs_hidden": false
                },
                "new_sheet": false,
                "run_control": {
                    "read_only": false
                }
            },
            "outputs": [
                {
                    "name": "stdout",
                    "output_type": "stream",
                    "text": "7.3\n"
                }
            ],
            "source": "venue_id = '3fd66200f964a520f4e41ee3' # ID of Ecco\nurl = 'https://api.foursquare.com/v2/venues/{}?client_id={}&client_secret={}&v={}'.format(venue_id, CLIENT_ID, CLIENT_SECRET, VERSION)\n\nresult = requests.get(url).json()\ntry:\n    print(result['response']['venue']['rating'])\nexcept:\n    print('This venue has not been rated yet.')"
        },
        {
            "cell_type": "markdown",
            "metadata": {
                "button": false,
                "new_sheet": false,
                "run_control": {
                    "read_only": false
                }
            },
            "source": "Since this restaurant has a slightly better rating, let's explore it further.\n"
        },
        {
            "cell_type": "markdown",
            "metadata": {
                "button": false,
                "new_sheet": false,
                "run_control": {
                    "read_only": false
                }
            },
            "source": "### C. Get the number of tips\n"
        },
        {
            "cell_type": "code",
            "execution_count": 16,
            "metadata": {
                "button": false,
                "jupyter": {
                    "outputs_hidden": false
                },
                "new_sheet": false,
                "run_control": {
                    "read_only": false
                }
            },
            "outputs": [
                {
                    "data": {
                        "text/plain": "19"
                    },
                    "execution_count": 16,
                    "metadata": {},
                    "output_type": "execute_result"
                }
            ],
            "source": "result['response']['venue']['tips']['count']"
        },
        {
            "cell_type": "markdown",
            "metadata": {
                "button": false,
                "new_sheet": false,
                "run_control": {
                    "read_only": false
                }
            },
            "source": "### D. Get the venue's tips\n\n> `https://api.foursquare.com/v2/venues/`**VENUE_ID**`/tips?client_id=`**CLIENT_ID**`&client_secret=`**CLIENT_SECRET**`&v=`**VERSION**`&limit=`**LIMIT**\n"
        },
        {
            "cell_type": "markdown",
            "metadata": {
                "button": false,
                "new_sheet": false,
                "run_control": {
                    "read_only": false
                }
            },
            "source": "#### Create URL and send GET request. Make sure to set limit to get all tips\n"
        },
        {
            "cell_type": "code",
            "execution_count": 17,
            "metadata": {
                "button": false,
                "jupyter": {
                    "outputs_hidden": false
                },
                "new_sheet": false,
                "run_control": {
                    "read_only": false
                }
            },
            "outputs": [
                {
                    "data": {
                        "text/plain": "{'meta': {'code': 200, 'requestId': '5fafe3be15cbfb5134b70222'},\n 'response': {'tips': {'count': 19,\n   'items': [{'id': '5ab1cb46c9a517174651d3fe',\n     'createdAt': 1521601350,\n     'text': 'A+ Italian food! Trust me on this: my mom\u2019s side of the family is 100% Italian. I was born and bred to know good pasta when I see it, and Ecco is one of my all-time NYC favorites',\n     'type': 'user',\n     'canonicalUrl': 'https://foursquare.com/item/5ab1cb46c9a517174651d3fe',\n     'lang': 'en',\n     'likes': {'count': 0, 'groups': []},\n     'logView': True,\n     'agreeCount': 5,\n     'disagreeCount': 0,\n     'todo': {'count': 0},\n     'user': {'isSanctioned': False, 'firstName': 'Nick', 'lastName': 'E'},\n     'authorInteractionType': 'liked'},\n    {'id': '5cb7051b180b910039f90625',\n     'createdAt': 1555498267,\n     'text': 'Excellent food!! Osso bucco special one of the best I ever had! Lobster ravioli with porcini mushroomhomemade Italian cheesecake, tiramisu and napoleons...calamari fra diavolo was saut\u00e9ed not fried',\n     'type': 'user',\n     'canonicalUrl': 'https://foursquare.com/item/5cb7051b180b910039f90625',\n     'lang': 'en',\n     'likes': {'count': 0, 'groups': []},\n     'logView': True,\n     'agreeCount': 1,\n     'disagreeCount': 0,\n     'todo': {'count': 0},\n     'user': {'isSanctioned': False, 'firstName': 'Lynn', 'lastName': 'B'},\n     'authorInteractionType': 'liked'}]}}}"
                    },
                    "execution_count": 17,
                    "metadata": {},
                    "output_type": "execute_result"
                }
            ],
            "source": "## Ecco Tips\nlimit = 15 # set limit to be greater than or equal to the total number of tips\nurl = 'https://api.foursquare.com/v2/venues/{}/tips?client_id={}&client_secret={}&v={}&limit={}'.format(venue_id, CLIENT_ID, CLIENT_SECRET, VERSION, limit)\n\nresults = requests.get(url).json()\nresults"
        },
        {
            "cell_type": "markdown",
            "metadata": {
                "button": false,
                "new_sheet": false,
                "run_control": {
                    "read_only": false
                }
            },
            "source": "#### Get tips and list of associated features\n"
        },
        {
            "cell_type": "code",
            "execution_count": 18,
            "metadata": {
                "button": false,
                "jupyter": {
                    "outputs_hidden": false
                },
                "new_sheet": false,
                "run_control": {
                    "read_only": false
                }
            },
            "outputs": [
                {
                    "data": {
                        "text/plain": "dict_keys(['id', 'createdAt', 'text', 'type', 'canonicalUrl', 'lang', 'likes', 'logView', 'agreeCount', 'disagreeCount', 'todo', 'user', 'authorInteractionType'])"
                    },
                    "execution_count": 18,
                    "metadata": {},
                    "output_type": "execute_result"
                }
            ],
            "source": "tips = results['response']['tips']['items']\n\ntip = results['response']['tips']['items'][0]\ntip.keys()"
        },
        {
            "cell_type": "markdown",
            "metadata": {
                "button": false,
                "new_sheet": false,
                "run_control": {
                    "read_only": false
                }
            },
            "source": "#### Format column width and display all tips\n"
        },
        {
            "cell_type": "code",
            "execution_count": 19,
            "metadata": {
                "button": false,
                "jupyter": {
                    "outputs_hidden": false
                },
                "new_sheet": false,
                "run_control": {
                    "read_only": false
                }
            },
            "outputs": [
                {
                    "name": "stderr",
                    "output_type": "stream",
                    "text": "/opt/conda/envs/Python-3.7-main/lib/python3.7/site-packages/ipykernel/__main__.py:1: FutureWarning: Passing a negative integer is deprecated in version 1.0 and will not be supported in future version. Instead, use None to not limit the column width.\n  if __name__ == '__main__':\n/opt/conda/envs/Python-3.7-main/lib/python3.7/site-packages/ipykernel/__main__.py:3: FutureWarning: pandas.io.json.json_normalize is deprecated, use pandas.json_normalize instead\n  app.launch_new_instance()\n"
                },
                {
                    "ename": "KeyError",
                    "evalue": "'Passing list-likes to .loc or [] with any missing labels is no longer supported, see https://pandas.pydata.org/pandas-docs/stable/user_guide/indexing.html#deprecate-loc-reindex-listlike'",
                    "output_type": "error",
                    "traceback": [
                        "\u001b[0;31m---------------------------------------------------------------------------\u001b[0m",
                        "\u001b[0;31mKeyError\u001b[0m                                  Traceback (most recent call last)",
                        "\u001b[0;32m<ipython-input-19-252e55242536>\u001b[0m in \u001b[0;36m<module>\u001b[0;34m\u001b[0m\n\u001b[1;32m      5\u001b[0m \u001b[0;31m# columns to keep\u001b[0m\u001b[0;34m\u001b[0m\u001b[0;34m\u001b[0m\u001b[0;34m\u001b[0m\u001b[0m\n\u001b[1;32m      6\u001b[0m \u001b[0mfiltered_columns\u001b[0m \u001b[0;34m=\u001b[0m \u001b[0;34m[\u001b[0m\u001b[0;34m'text'\u001b[0m\u001b[0;34m,\u001b[0m \u001b[0;34m'agreeCount'\u001b[0m\u001b[0;34m,\u001b[0m \u001b[0;34m'disagreeCount'\u001b[0m\u001b[0;34m,\u001b[0m \u001b[0;34m'id'\u001b[0m\u001b[0;34m,\u001b[0m \u001b[0;34m'user.firstName'\u001b[0m\u001b[0;34m,\u001b[0m \u001b[0;34m'user.lastName'\u001b[0m\u001b[0;34m,\u001b[0m \u001b[0;34m'user.id'\u001b[0m\u001b[0;34m]\u001b[0m\u001b[0;34m\u001b[0m\u001b[0;34m\u001b[0m\u001b[0m\n\u001b[0;32m----> 7\u001b[0;31m \u001b[0mtips_filtered\u001b[0m \u001b[0;34m=\u001b[0m \u001b[0mtips_df\u001b[0m\u001b[0;34m.\u001b[0m\u001b[0mloc\u001b[0m\u001b[0;34m[\u001b[0m\u001b[0;34m:\u001b[0m\u001b[0;34m,\u001b[0m \u001b[0mfiltered_columns\u001b[0m\u001b[0;34m]\u001b[0m\u001b[0;34m\u001b[0m\u001b[0;34m\u001b[0m\u001b[0m\n\u001b[0m\u001b[1;32m      8\u001b[0m \u001b[0;34m\u001b[0m\u001b[0m\n\u001b[1;32m      9\u001b[0m \u001b[0;31m# display tips\u001b[0m\u001b[0;34m\u001b[0m\u001b[0;34m\u001b[0m\u001b[0;34m\u001b[0m\u001b[0m\n",
                        "\u001b[0;32m/opt/conda/envs/Python-3.7-main/lib/python3.7/site-packages/pandas/core/indexing.py\u001b[0m in \u001b[0;36m__getitem__\u001b[0;34m(self, key)\u001b[0m\n\u001b[1;32m   1760\u001b[0m                 \u001b[0;32mexcept\u001b[0m \u001b[0;34m(\u001b[0m\u001b[0mKeyError\u001b[0m\u001b[0;34m,\u001b[0m \u001b[0mIndexError\u001b[0m\u001b[0;34m,\u001b[0m \u001b[0mAttributeError\u001b[0m\u001b[0;34m)\u001b[0m\u001b[0;34m:\u001b[0m\u001b[0;34m\u001b[0m\u001b[0;34m\u001b[0m\u001b[0m\n\u001b[1;32m   1761\u001b[0m                     \u001b[0;32mpass\u001b[0m\u001b[0;34m\u001b[0m\u001b[0;34m\u001b[0m\u001b[0m\n\u001b[0;32m-> 1762\u001b[0;31m             \u001b[0;32mreturn\u001b[0m \u001b[0mself\u001b[0m\u001b[0;34m.\u001b[0m\u001b[0m_getitem_tuple\u001b[0m\u001b[0;34m(\u001b[0m\u001b[0mkey\u001b[0m\u001b[0;34m)\u001b[0m\u001b[0;34m\u001b[0m\u001b[0;34m\u001b[0m\u001b[0m\n\u001b[0m\u001b[1;32m   1763\u001b[0m         \u001b[0;32melse\u001b[0m\u001b[0;34m:\u001b[0m\u001b[0;34m\u001b[0m\u001b[0;34m\u001b[0m\u001b[0m\n\u001b[1;32m   1764\u001b[0m             \u001b[0;31m# we by definition only have the 0th axis\u001b[0m\u001b[0;34m\u001b[0m\u001b[0;34m\u001b[0m\u001b[0;34m\u001b[0m\u001b[0m\n",
                        "\u001b[0;32m/opt/conda/envs/Python-3.7-main/lib/python3.7/site-packages/pandas/core/indexing.py\u001b[0m in \u001b[0;36m_getitem_tuple\u001b[0;34m(self, tup)\u001b[0m\n\u001b[1;32m   1287\u001b[0m                 \u001b[0;32mcontinue\u001b[0m\u001b[0;34m\u001b[0m\u001b[0;34m\u001b[0m\u001b[0m\n\u001b[1;32m   1288\u001b[0m \u001b[0;34m\u001b[0m\u001b[0m\n\u001b[0;32m-> 1289\u001b[0;31m             \u001b[0mretval\u001b[0m \u001b[0;34m=\u001b[0m \u001b[0mgetattr\u001b[0m\u001b[0;34m(\u001b[0m\u001b[0mretval\u001b[0m\u001b[0;34m,\u001b[0m \u001b[0mself\u001b[0m\u001b[0;34m.\u001b[0m\u001b[0mname\u001b[0m\u001b[0;34m)\u001b[0m\u001b[0;34m.\u001b[0m\u001b[0m_getitem_axis\u001b[0m\u001b[0;34m(\u001b[0m\u001b[0mkey\u001b[0m\u001b[0;34m,\u001b[0m \u001b[0maxis\u001b[0m\u001b[0;34m=\u001b[0m\u001b[0mi\u001b[0m\u001b[0;34m)\u001b[0m\u001b[0;34m\u001b[0m\u001b[0;34m\u001b[0m\u001b[0m\n\u001b[0m\u001b[1;32m   1290\u001b[0m \u001b[0;34m\u001b[0m\u001b[0m\n\u001b[1;32m   1291\u001b[0m         \u001b[0;32mreturn\u001b[0m \u001b[0mretval\u001b[0m\u001b[0;34m\u001b[0m\u001b[0;34m\u001b[0m\u001b[0m\n",
                        "\u001b[0;32m/opt/conda/envs/Python-3.7-main/lib/python3.7/site-packages/pandas/core/indexing.py\u001b[0m in \u001b[0;36m_getitem_axis\u001b[0;34m(self, key, axis)\u001b[0m\n\u001b[1;32m   1952\u001b[0m                     \u001b[0;32mraise\u001b[0m \u001b[0mValueError\u001b[0m\u001b[0;34m(\u001b[0m\u001b[0;34m\"Cannot index with multidimensional key\"\u001b[0m\u001b[0;34m)\u001b[0m\u001b[0;34m\u001b[0m\u001b[0;34m\u001b[0m\u001b[0m\n\u001b[1;32m   1953\u001b[0m \u001b[0;34m\u001b[0m\u001b[0m\n\u001b[0;32m-> 1954\u001b[0;31m                 \u001b[0;32mreturn\u001b[0m \u001b[0mself\u001b[0m\u001b[0;34m.\u001b[0m\u001b[0m_getitem_iterable\u001b[0m\u001b[0;34m(\u001b[0m\u001b[0mkey\u001b[0m\u001b[0;34m,\u001b[0m \u001b[0maxis\u001b[0m\u001b[0;34m=\u001b[0m\u001b[0maxis\u001b[0m\u001b[0;34m)\u001b[0m\u001b[0;34m\u001b[0m\u001b[0;34m\u001b[0m\u001b[0m\n\u001b[0m\u001b[1;32m   1955\u001b[0m \u001b[0;34m\u001b[0m\u001b[0m\n\u001b[1;32m   1956\u001b[0m             \u001b[0;31m# nested tuple slicing\u001b[0m\u001b[0;34m\u001b[0m\u001b[0;34m\u001b[0m\u001b[0;34m\u001b[0m\u001b[0m\n",
                        "\u001b[0;32m/opt/conda/envs/Python-3.7-main/lib/python3.7/site-packages/pandas/core/indexing.py\u001b[0m in \u001b[0;36m_getitem_iterable\u001b[0;34m(self, key, axis)\u001b[0m\n\u001b[1;32m   1593\u001b[0m         \u001b[0;32melse\u001b[0m\u001b[0;34m:\u001b[0m\u001b[0;34m\u001b[0m\u001b[0;34m\u001b[0m\u001b[0m\n\u001b[1;32m   1594\u001b[0m             \u001b[0;31m# A collection of keys\u001b[0m\u001b[0;34m\u001b[0m\u001b[0;34m\u001b[0m\u001b[0;34m\u001b[0m\u001b[0m\n\u001b[0;32m-> 1595\u001b[0;31m             \u001b[0mkeyarr\u001b[0m\u001b[0;34m,\u001b[0m \u001b[0mindexer\u001b[0m \u001b[0;34m=\u001b[0m \u001b[0mself\u001b[0m\u001b[0;34m.\u001b[0m\u001b[0m_get_listlike_indexer\u001b[0m\u001b[0;34m(\u001b[0m\u001b[0mkey\u001b[0m\u001b[0;34m,\u001b[0m \u001b[0maxis\u001b[0m\u001b[0;34m,\u001b[0m \u001b[0mraise_missing\u001b[0m\u001b[0;34m=\u001b[0m\u001b[0;32mFalse\u001b[0m\u001b[0;34m)\u001b[0m\u001b[0;34m\u001b[0m\u001b[0;34m\u001b[0m\u001b[0m\n\u001b[0m\u001b[1;32m   1596\u001b[0m             return self.obj._reindex_with_indexers(\n\u001b[1;32m   1597\u001b[0m                 \u001b[0;34m{\u001b[0m\u001b[0maxis\u001b[0m\u001b[0;34m:\u001b[0m \u001b[0;34m[\u001b[0m\u001b[0mkeyarr\u001b[0m\u001b[0;34m,\u001b[0m \u001b[0mindexer\u001b[0m\u001b[0;34m]\u001b[0m\u001b[0;34m}\u001b[0m\u001b[0;34m,\u001b[0m \u001b[0mcopy\u001b[0m\u001b[0;34m=\u001b[0m\u001b[0;32mTrue\u001b[0m\u001b[0;34m,\u001b[0m \u001b[0mallow_dups\u001b[0m\u001b[0;34m=\u001b[0m\u001b[0;32mTrue\u001b[0m\u001b[0;34m\u001b[0m\u001b[0;34m\u001b[0m\u001b[0m\n",
                        "\u001b[0;32m/opt/conda/envs/Python-3.7-main/lib/python3.7/site-packages/pandas/core/indexing.py\u001b[0m in \u001b[0;36m_get_listlike_indexer\u001b[0;34m(self, key, axis, raise_missing)\u001b[0m\n\u001b[1;32m   1551\u001b[0m \u001b[0;34m\u001b[0m\u001b[0m\n\u001b[1;32m   1552\u001b[0m         self._validate_read_indexer(\n\u001b[0;32m-> 1553\u001b[0;31m             \u001b[0mkeyarr\u001b[0m\u001b[0;34m,\u001b[0m \u001b[0mindexer\u001b[0m\u001b[0;34m,\u001b[0m \u001b[0mo\u001b[0m\u001b[0;34m.\u001b[0m\u001b[0m_get_axis_number\u001b[0m\u001b[0;34m(\u001b[0m\u001b[0maxis\u001b[0m\u001b[0;34m)\u001b[0m\u001b[0;34m,\u001b[0m \u001b[0mraise_missing\u001b[0m\u001b[0;34m=\u001b[0m\u001b[0mraise_missing\u001b[0m\u001b[0;34m\u001b[0m\u001b[0;34m\u001b[0m\u001b[0m\n\u001b[0m\u001b[1;32m   1554\u001b[0m         )\n\u001b[1;32m   1555\u001b[0m         \u001b[0;32mreturn\u001b[0m \u001b[0mkeyarr\u001b[0m\u001b[0;34m,\u001b[0m \u001b[0mindexer\u001b[0m\u001b[0;34m\u001b[0m\u001b[0;34m\u001b[0m\u001b[0m\n",
                        "\u001b[0;32m/opt/conda/envs/Python-3.7-main/lib/python3.7/site-packages/pandas/core/indexing.py\u001b[0m in \u001b[0;36m_validate_read_indexer\u001b[0;34m(self, key, indexer, axis, raise_missing)\u001b[0m\n\u001b[1;32m   1653\u001b[0m             \u001b[0;32mif\u001b[0m \u001b[0;32mnot\u001b[0m \u001b[0;34m(\u001b[0m\u001b[0max\u001b[0m\u001b[0;34m.\u001b[0m\u001b[0mis_categorical\u001b[0m\u001b[0;34m(\u001b[0m\u001b[0;34m)\u001b[0m \u001b[0;32mor\u001b[0m \u001b[0max\u001b[0m\u001b[0;34m.\u001b[0m\u001b[0mis_interval\u001b[0m\u001b[0;34m(\u001b[0m\u001b[0;34m)\u001b[0m\u001b[0;34m)\u001b[0m\u001b[0;34m:\u001b[0m\u001b[0;34m\u001b[0m\u001b[0;34m\u001b[0m\u001b[0m\n\u001b[1;32m   1654\u001b[0m                 raise KeyError(\n\u001b[0;32m-> 1655\u001b[0;31m                     \u001b[0;34m\"Passing list-likes to .loc or [] with any missing labels \"\u001b[0m\u001b[0;34m\u001b[0m\u001b[0;34m\u001b[0m\u001b[0m\n\u001b[0m\u001b[1;32m   1656\u001b[0m                     \u001b[0;34m\"is no longer supported, see \"\u001b[0m\u001b[0;34m\u001b[0m\u001b[0;34m\u001b[0m\u001b[0m\n\u001b[1;32m   1657\u001b[0m                     \u001b[0;34m\"https://pandas.pydata.org/pandas-docs/stable/user_guide/indexing.html#deprecate-loc-reindex-listlike\"\u001b[0m  \u001b[0;31m# noqa:E501\u001b[0m\u001b[0;34m\u001b[0m\u001b[0;34m\u001b[0m\u001b[0m\n",
                        "\u001b[0;31mKeyError\u001b[0m: 'Passing list-likes to .loc or [] with any missing labels is no longer supported, see https://pandas.pydata.org/pandas-docs/stable/user_guide/indexing.html#deprecate-loc-reindex-listlike'"
                    ]
                }
            ],
            "source": "pd.set_option('display.max_colwidth', -1)\n\ntips_df = json_normalize(tips) # json normalize tips\n\n# columns to keep\nfiltered_columns = ['text', 'agreeCount', 'disagreeCount', 'id', 'user.firstName', 'user.lastName', 'user.id']\ntips_filtered = tips_df.loc[:, filtered_columns]\n\n# display tips\ntips_filtered.reindex()"
        },
        {
            "cell_type": "markdown",
            "metadata": {
                "button": false,
                "new_sheet": false,
                "run_control": {
                    "read_only": false
                }
            },
            "source": "Now remember that because we are using a personal developer account, then we can access only 2 of the restaurant's tips, instead of all 15 tips.\n"
        },
        {
            "cell_type": "markdown",
            "metadata": {
                "button": false,
                "new_sheet": false,
                "run_control": {
                    "read_only": false
                }
            },
            "source": "\n"
        },
        {
            "cell_type": "markdown",
            "metadata": {
                "button": false,
                "new_sheet": false,
                "run_control": {
                    "read_only": false
                }
            },
            "source": "<a id=\"item3\"></a>\n"
        },
        {
            "cell_type": "markdown",
            "metadata": {
                "button": false,
                "new_sheet": false,
                "run_control": {
                    "read_only": false
                }
            },
            "source": "## 3. Search a Foursquare User\n\n> `https://api.foursquare.com/v2/users/`**USER_ID**`?client_id=`**CLIENT_ID**`&client_secret=`**CLIENT_SECRET**`&v=`**VERSION**\n"
        },
        {
            "cell_type": "markdown",
            "metadata": {
                "button": false,
                "new_sheet": false,
                "run_control": {
                    "read_only": false
                }
            },
            "source": "### Define URL, send GET request and display features associated with user\n"
        },
        {
            "cell_type": "code",
            "execution_count": null,
            "metadata": {
                "button": false,
                "jupyter": {
                    "outputs_hidden": false
                },
                "new_sheet": false,
                "run_control": {
                    "read_only": false
                }
            },
            "outputs": [],
            "source": "idnumber = '48454224' # user ID with most agree counts and complete profile\n\nurl = 'https://api.foursquare.com/v2/users/{}/tips?client_id={}&client_secret={}&v={}'.format(idnumber, CLIENT_ID, CLIENT_SECRET, VERSION) # define URL\n\n# send GET request\nresults = requests.get(url).json()\n#user_data = results['response']['user']\nuser_data=results['response']['tips']['items'][0]['venue']['photos']['groups'][0]['items']#['items']\n# display features associated with user\n#user_data.keys()\n#results\npd.set_option('display.max_colwidth', -1)\n\nusers_df = json_normalize(user_data)\n\n# filter columns\nfiltered_columns = ['id','user.id','user.firstName','user.lastName']\ntips_filtered = users_df.loc[:, filtered_columns]\n\n# display user's tips\ndf=tips_filtered\ndf\n#url"
        },
        {
            "cell_type": "code",
            "execution_count": null,
            "metadata": {},
            "outputs": [],
            "source": "\ng=df.loc[df['user.id'] == '133773133']\nprint('First Name: ' + g['user.firstName'])\nprint('Last Name: ' + g['user.lastName'])\n"
        },
        {
            "cell_type": "markdown",
            "metadata": {},
            "source": "### Retrieve the User's Profile Image\n"
        },
        {
            "cell_type": "code",
            "execution_count": null,
            "metadata": {},
            "outputs": [],
            "source": "# 1. grab prefix of photo\n# 2. grab suffix of photo\n# 3. concatenate them using the image size  \nImage(url='https://fastly.4sqi.net/img/general/540x920/133773133_ODR5Au05ENkSyu3xxfV3VOfCa0idDfm9Q4n8YbhZDRQ.jpg')"
        },
        {
            "cell_type": "markdown",
            "metadata": {
                "button": false,
                "new_sheet": false,
                "run_control": {
                    "read_only": false
                }
            },
            "source": "Wow! So it turns out that Nick is a very active Foursquare user, with more than 250 tips.\n"
        },
        {
            "cell_type": "markdown",
            "metadata": {
                "button": false,
                "new_sheet": false,
                "run_control": {
                    "read_only": false
                }
            },
            "source": "### Get User's tips\n"
        },
        {
            "cell_type": "code",
            "execution_count": null,
            "metadata": {
                "button": false,
                "jupyter": {
                    "outputs_hidden": false
                },
                "new_sheet": false,
                "run_control": {
                    "read_only": false
                }
            },
            "outputs": [],
            "source": "# define tips URL\nuser_id='484542633'\nurl = 'https://api.foursquare.com/v2/users/{}/tips?client_id={}&client_secret={}&v={}&limit={}'.format(user_id, CLIENT_ID, CLIENT_SECRET, VERSION, limit)\n\n# send GET request and get user's tips\nresults = requests.get(url).json()\ntips = results['response']['tips']['items']\n\n# format column width\npd.set_option('display.max_colwidth', -1)\n\ntips_df = json_normalize(tips)\n\n# filter columns\nfiltered_columns = ['text', 'agreeCount', 'disagreeCount', 'id']\ntips_filtered = tips_df.loc[:, filtered_columns]\n\n# display user's tips\ntips_filtered"
        },
        {
            "cell_type": "markdown",
            "metadata": {
                "button": false,
                "new_sheet": false,
                "run_control": {
                    "read_only": false
                }
            },
            "source": "#### Let's get the venue for the tip with the greatest number of agree counts\n"
        },
        {
            "cell_type": "code",
            "execution_count": null,
            "metadata": {
                "button": false,
                "jupyter": {
                    "outputs_hidden": false
                },
                "new_sheet": false,
                "run_control": {
                    "read_only": false
                }
            },
            "outputs": [],
            "source": "tip_id = '5ab5575d73fe2516ad8f363b' # tip id\n\n# define URL\nurl = 'https://api.foursquare.com/v2/users/{}/tips?client_id={}&client_secret={}&v={}'.format(idnumber, CLIENT_ID, CLIENT_SECRET, VERSION) # define URL\n\n\n# send GET Request and examine results\nresult = requests.get(url).json()\nprint(result['response']['tips']['items'][0]['venue']['name'])\nprint(result['response']['tips']['items'][0]['venue']['location'])"
        },
        {
            "cell_type": "markdown",
            "metadata": {
                "button": false,
                "new_sheet": false,
                "run_control": {
                    "read_only": false
                }
            },
            "source": "## 4. Explore a location\n\n> `https://api.foursquare.com/v2/venues/`**explore**`?client_id=`**CLIENT_ID**`&client_secret=`**CLIENT_SECRET**`&ll=`**LATITUDE**`,`**LONGITUDE**`&v=`**VERSION**`&limit=`**LIMIT**\n"
        },
        {
            "cell_type": "markdown",
            "metadata": {
                "button": false,
                "new_sheet": false,
                "run_control": {
                    "read_only": false
                }
            },
            "source": "#### So, you just finished your gourmet dish at Ecco, and are just curious about the popular spots around the restaurant. In order to explore the area, let's start by getting the latitude and longitude values of Ecco Restaurant.\n"
        },
        {
            "cell_type": "code",
            "execution_count": null,
            "metadata": {
                "button": false,
                "jupyter": {
                    "outputs_hidden": true
                },
                "new_sheet": false,
                "run_control": {
                    "read_only": false
                }
            },
            "outputs": [],
            "source": "latitude = 40.715337\nlongitude = -74.008848"
        },
        {
            "cell_type": "markdown",
            "metadata": {
                "button": false,
                "new_sheet": false,
                "run_control": {
                    "read_only": false
                }
            },
            "source": "#### Define URL\n"
        },
        {
            "cell_type": "code",
            "execution_count": null,
            "metadata": {
                "button": false,
                "jupyter": {
                    "outputs_hidden": false
                },
                "new_sheet": false,
                "run_control": {
                    "read_only": false
                }
            },
            "outputs": [],
            "source": "url = 'https://api.foursquare.com/v2/venues/explore?client_id={}&client_secret={}&ll={},{}&v={}&radius={}&limit={}'.format(CLIENT_ID, CLIENT_SECRET, latitude, longitude, VERSION, radius, LIMIT)\nurl"
        },
        {
            "cell_type": "markdown",
            "metadata": {
                "button": false,
                "new_sheet": false,
                "run_control": {
                    "read_only": false
                }
            },
            "source": "#### Send GET request and examine results\n"
        },
        {
            "cell_type": "code",
            "execution_count": null,
            "metadata": {
                "button": false,
                "jupyter": {
                    "outputs_hidden": true
                },
                "new_sheet": false,
                "run_control": {
                    "read_only": false
                }
            },
            "outputs": [],
            "source": "import requests"
        },
        {
            "cell_type": "code",
            "execution_count": null,
            "metadata": {
                "button": false,
                "jupyter": {
                    "outputs_hidden": false
                },
                "new_sheet": false,
                "run_control": {
                    "read_only": false
                }
            },
            "outputs": [],
            "source": "results = requests.get(url).json()\n'There are {} around Ecco restaurant.'.format(len(results['response']['groups'][0]['items']))"
        },
        {
            "cell_type": "markdown",
            "metadata": {
                "button": false,
                "new_sheet": false,
                "run_control": {
                    "read_only": false
                }
            },
            "source": "#### Get relevant part of JSON\n"
        },
        {
            "cell_type": "code",
            "execution_count": null,
            "metadata": {
                "button": false,
                "jupyter": {
                    "outputs_hidden": false
                },
                "new_sheet": false,
                "run_control": {
                    "read_only": false
                }
            },
            "outputs": [],
            "source": "items = results['response']['groups'][0]['items']\nitems[0]"
        },
        {
            "cell_type": "markdown",
            "metadata": {
                "button": false,
                "new_sheet": false,
                "run_control": {
                    "read_only": false
                }
            },
            "source": "#### Process JSON and convert it to a clean dataframe\n"
        },
        {
            "cell_type": "code",
            "execution_count": null,
            "metadata": {
                "button": false,
                "jupyter": {
                    "outputs_hidden": false
                },
                "new_sheet": false,
                "run_control": {
                    "read_only": false
                }
            },
            "outputs": [],
            "source": "dataframe = json_normalize(items) # flatten JSON\n\n# filter columns\nfiltered_columns = ['venue.name', 'venue.categories'] + [col for col in dataframe.columns if col.startswith('venue.location.')] + ['venue.id']\ndataframe_filtered = dataframe.loc[:, filtered_columns]\n\n# filter the category for each row\ndataframe_filtered['venue.categories'] = dataframe_filtered.apply(get_category_type, axis=1)\n\n# clean columns\ndataframe_filtered.columns = [col.split('.')[-1] for col in dataframe_filtered.columns]\n\ndataframe_filtered.head(10)"
        },
        {
            "cell_type": "markdown",
            "metadata": {
                "button": false,
                "new_sheet": false,
                "run_control": {
                    "read_only": false
                }
            },
            "source": "#### Let's visualize these items on the map around our location\n"
        },
        {
            "cell_type": "code",
            "execution_count": null,
            "metadata": {
                "button": false,
                "jupyter": {
                    "outputs_hidden": false
                },
                "new_sheet": false,
                "run_control": {
                    "read_only": false
                },
                "scrolled": true
            },
            "outputs": [],
            "source": "venues_map = folium.Map(location=[latitude, longitude], zoom_start=15) # generate map centred around Ecco\n\n\n# add Ecco as a red circle mark\nfolium.CircleMarker(\n    [latitude, longitude],\n    radius=10,\n    popup='Ecco',\n    fill=True,\n    color='red',\n    fill_color='red',\n    fill_opacity=0.6\n    ).add_to(venues_map)\n\n\n# add popular spots to the map as blue circle markers\nfor lat, lng, label in zip(dataframe_filtered.lat, dataframe_filtered.lng, dataframe_filtered.categories):\n    folium.CircleMarker(\n        [lat, lng],\n        radius=5,\n        popup=label,\n        fill=True,\n        color='blue',\n        fill_color='blue',\n        fill_opacity=0.6\n        ).add_to(venues_map)\n\n# display map\nvenues_map"
        },
        {
            "cell_type": "markdown",
            "metadata": {
                "button": false,
                "new_sheet": false,
                "run_control": {
                    "read_only": false
                }
            },
            "source": "\n"
        },
        {
            "cell_type": "markdown",
            "metadata": {
                "button": false,
                "new_sheet": false,
                "run_control": {
                    "read_only": false
                }
            },
            "source": "<a id=\"item5\"></a>\n"
        },
        {
            "cell_type": "markdown",
            "metadata": {
                "button": false,
                "new_sheet": false,
                "run_control": {
                    "read_only": false
                }
            },
            "source": "## 5. Explore Trending Venues\n\n> `https://api.foursquare.com/v2/venues/`**trending**`?client_id=`**CLIENT_ID**`&client_secret=`**CLIENT_SECRET**`&ll=`**LATITUDE**`,`**LONGITUDE**`&v=`**VERSION**\n"
        },
        {
            "cell_type": "markdown",
            "metadata": {
                "button": false,
                "new_sheet": false,
                "run_control": {
                    "read_only": false
                }
            },
            "source": "#### Now, instead of simply exploring the area around Ecco, you are interested in knowing the venues that are trending at the time you are done with your lunch, meaning the places with the highest foot traffic. So let's do that and get the trending venues around Ecco.\n"
        },
        {
            "cell_type": "code",
            "execution_count": null,
            "metadata": {
                "button": false,
                "jupyter": {
                    "outputs_hidden": false
                },
                "new_sheet": false,
                "run_control": {
                    "read_only": false
                }
            },
            "outputs": [],
            "source": "# define URL\nurl = 'https://api.foursquare.com/v2/venues/trending?client_id={}&client_secret={}&ll={},{}&v={}'.format(CLIENT_ID, CLIENT_SECRET, latitude, longitude, VERSION)\n\n# send GET request and get trending venues\nresults = requests.get(url).json()\nresults"
        },
        {
            "cell_type": "markdown",
            "metadata": {
                "button": false,
                "new_sheet": false,
                "run_control": {
                    "read_only": false
                }
            },
            "source": "### Check if any venues are trending at this time\n"
        },
        {
            "cell_type": "code",
            "execution_count": null,
            "metadata": {
                "button": false,
                "jupyter": {
                    "outputs_hidden": true
                },
                "new_sheet": false,
                "run_control": {
                    "read_only": false
                }
            },
            "outputs": [],
            "source": "if len(results['response']['venues']) == 0:\n    trending_venues_df = 'No trending venues are available at the moment!'\n    \nelse:\n    trending_venues = results['response']['venues']\n    trending_venues_df = json_normalize(trending_venues)\n\n    # filter columns\n    columns_filtered = ['name', 'categories'] + ['location.distance', 'location.city', 'location.postalCode', 'location.state', 'location.country', 'location.lat', 'location.lng']\n    trending_venues_df = trending_venues_df.loc[:, columns_filtered]\n\n    # filter the category for each row\n    trending_venues_df['categories'] = trending_venues_df.apply(get_category_type, axis=1)"
        },
        {
            "cell_type": "code",
            "execution_count": null,
            "metadata": {
                "button": false,
                "jupyter": {
                    "outputs_hidden": false
                },
                "new_sheet": false,
                "run_control": {
                    "read_only": false
                }
            },
            "outputs": [],
            "source": "# display trending venues\ntrending_venues_df"
        },
        {
            "cell_type": "markdown",
            "metadata": {
                "button": false,
                "new_sheet": false,
                "run_control": {
                    "read_only": false
                }
            },
            "source": "Now, depending on when you run the above code, you might get different venues since the venues with the highest foot traffic are fetched live. \n"
        },
        {
            "cell_type": "markdown",
            "metadata": {
                "button": false,
                "new_sheet": false,
                "run_control": {
                    "read_only": false
                }
            },
            "source": "### Visualize trending venues\n"
        },
        {
            "cell_type": "code",
            "execution_count": null,
            "metadata": {
                "button": false,
                "jupyter": {
                    "outputs_hidden": false
                },
                "new_sheet": false,
                "run_control": {
                    "read_only": false
                }
            },
            "outputs": [],
            "source": "if len(results['response']['venues']) == 0:\n    venues_map = 'Cannot generate visual as no trending venues are available at the moment!'\n\nelse:\n    venues_map = folium.Map(location=[latitude, longitude], zoom_start=15) # generate map centred around Ecco\n\n\n    # add Ecco as a red circle mark\n    folium.CircleMarker(\n        [latitude, longitude],\n        radius=10,\n        popup='Ecco',\n        fill=True,\n        color='red',\n        fill_color='red',\n        fill_opacity=0.6\n    ).add_to(venues_map)\n\n\n    # add the trending venues as blue circle markers\n    for lat, lng, label in zip(trending_venues_df['location.lat'], trending_venues_df['location.lng'], trending_venues_df['name']):\n        folium.CircleMarker(\n            [lat, lng],\n            radius=5,\n            poup=label,\n            fill=True,\n            color='blue',\n            fill_color='blue',\n            fill_opacity=0.6\n        ).add_to(venues_map)"
        },
        {
            "cell_type": "code",
            "execution_count": null,
            "metadata": {
                "button": false,
                "jupyter": {
                    "outputs_hidden": false
                },
                "new_sheet": false,
                "run_control": {
                    "read_only": false
                },
                "scrolled": true
            },
            "outputs": [],
            "source": "# display map\nvenues_map"
        },
        {
            "cell_type": "markdown",
            "metadata": {
                "button": false,
                "new_sheet": false,
                "run_control": {
                    "read_only": false
                }
            },
            "source": "<a id=\"item6\"></a>\n"
        },
        {
            "cell_type": "markdown",
            "metadata": {
                "button": false,
                "new_sheet": false,
                "run_control": {
                    "read_only": false
                }
            },
            "source": "\n"
        },
        {
            "cell_type": "markdown",
            "metadata": {
                "button": false,
                "new_sheet": false,
                "run_control": {
                    "read_only": false
                }
            },
            "source": "### Thank you for completing this lab!\n\nThis notebook was created by [Alex Aklson](https://www.linkedin.com/in/aklson?cm_mmc=Email_Newsletter-_-Developer_Ed%2BTech-_-WW_WW-_-SkillsNetwork-Courses-IBMDeveloperSkillsNetwork-DS0701EN-SkillsNetwork-21253531&cm_mmca1=000026UJ&cm_mmca2=10006555&cm_mmca3=M12345678&cvosrc=email.Newsletter.M12345678&cvo_campaign=000026UJ&cm_mmc=Email_Newsletter-_-Developer_Ed%2BTech-_-WW_WW-_-SkillsNetwork-Courses-IBMDeveloperSkillsNetwork-DS0701EN-SkillsNetwork-21253531&cm_mmca1=000026UJ&cm_mmca2=10006555&cm_mmca3=M12345678&cvosrc=email.Newsletter.M12345678&cvo_campaign=000026UJ). I hope you found this lab interesting and educational. Feel free to contact me if you have any questions!\n\nThis notebook modified by Nayef Abou Tayoun ([https://www.linkedin.com/in/nayefaboutayoun/](https://www.linkedin.com/in/nayefaboutayoun?cm_mmc=Email_Newsletter-_-Developer_Ed%2BTech-_-WW_WW-_-SkillsNetwork-Courses-IBMDeveloperSkillsNetwork-DS0701EN-SkillsNetwork-21253531&cm_mmca1=000026UJ&cm_mmca2=10006555&cm_mmca3=M12345678&cvosrc=email.Newsletter.M12345678&cvo_campaign=000026UJ))\n"
        },
        {
            "cell_type": "markdown",
            "metadata": {
                "button": false,
                "new_sheet": false,
                "run_control": {
                    "read_only": false
                }
            },
            "source": "This notebook is part of a course on **Coursera** called _Applied Data Science Capstone_. If you accessed this notebook outside the course, you can take this course online by clicking [here](http://cocl.us/DP0701EN_Coursera_Week2_LAB1).\n"
        },
        {
            "cell_type": "markdown",
            "metadata": {
                "button": false,
                "new_sheet": false,
                "run_control": {
                    "read_only": false
                }
            },
            "source": "<hr>\nCopyright &copy; 2018 [Cognitive Class](https://cognitiveclass.ai/?utm_source=bducopyrightlink&utm_medium=dswb&utm_campaign=bdu). This notebook and its source code are released under the terms of the [MIT License](https://bigdatauniversity.com/mit-license/).\n"
        },
        {
            "cell_type": "code",
            "execution_count": null,
            "metadata": {},
            "outputs": [],
            "source": ""
        }
    ],
    "metadata": {
        "kernelspec": {
            "display_name": "Python 3.7",
            "language": "python",
            "name": "python3"
        },
        "language_info": {
            "codemirror_mode": {
                "name": "ipython",
                "version": 3
            },
            "file_extension": ".py",
            "mimetype": "text/x-python",
            "name": "python",
            "nbconvert_exporter": "python",
            "pygments_lexer": "ipython3",
            "version": "3.7.9"
        },
        "widgets": {
            "state": {},
            "version": "1.1.2"
        }
    },
    "nbformat": 4,
    "nbformat_minor": 4
}